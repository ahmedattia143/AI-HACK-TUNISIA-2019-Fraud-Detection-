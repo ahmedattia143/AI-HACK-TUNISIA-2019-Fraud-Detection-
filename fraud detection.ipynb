{
 "cells": [
  {
   "cell_type": "code",
   "execution_count": 1,
   "metadata": {},
   "outputs": [],
   "source": [
    "import numpy as np \n",
    "import pandas as pd\n",
    "import matplotlib.pyplot as plt\n",
    "import sklearn\n",
    "import seaborn as sns"
   ]
  },
  {
   "cell_type": "code",
   "execution_count": 2,
   "metadata": {},
   "outputs": [],
   "source": [
    "train = pd.read_csv('train.csv')\n",
    "test = pd.read_csv('test.csv')\n",
    "target = train['target']\n",
    "train.drop('target',axis=1,inplace=True)\n",
    "idd= test['id']\n",
    "all_data = pd.concat((train, test)).reset_index(drop=True)"
   ]
  },
  {
   "cell_type": "code",
   "execution_count": 3,
   "metadata": {},
   "outputs": [
    {
     "data": {
      "text/html": [
       "<div>\n",
       "<style scoped>\n",
       "    .dataframe tbody tr th:only-of-type {\n",
       "        vertical-align: middle;\n",
       "    }\n",
       "\n",
       "    .dataframe tbody tr th {\n",
       "        vertical-align: top;\n",
       "    }\n",
       "\n",
       "    .dataframe thead th {\n",
       "        text-align: right;\n",
       "    }\n",
       "</style>\n",
       "<table border=\"1\" class=\"dataframe\">\n",
       "  <thead>\n",
       "    <tr style=\"text-align: right;\">\n",
       "      <th></th>\n",
       "      <th>BCT_CODBUR</th>\n",
       "      <th>CTR_MATFIS</th>\n",
       "      <th>CTR_CATEGO_X</th>\n",
       "      <th>FJU_CODFJU</th>\n",
       "      <th>CTR_CESSAT</th>\n",
       "      <th>ACT_CODACT</th>\n",
       "      <th>CTR_OBLDIR</th>\n",
       "      <th>CTR_OBLACP</th>\n",
       "      <th>CTR_OBLRES</th>\n",
       "      <th>CTR_OBLFOP</th>\n",
       "      <th>...</th>\n",
       "      <th>AX5_MNTMAR</th>\n",
       "      <th>RES_ANNIMP</th>\n",
       "      <th>FAC_MNTPRI_F</th>\n",
       "      <th>FAC_MFODEC_F</th>\n",
       "      <th>FAC_MNTDCO_F</th>\n",
       "      <th>FAC_MNTTVA_F</th>\n",
       "      <th>FAC_MNTPRI_C</th>\n",
       "      <th>FAC_MFODEC_C</th>\n",
       "      <th>FAC_MNTDCO_C</th>\n",
       "      <th>FAC_MNTTVA_C</th>\n",
       "    </tr>\n",
       "  </thead>\n",
       "  <tbody>\n",
       "    <tr>\n",
       "      <th>0</th>\n",
       "      <td>49</td>\n",
       "      <td>14185</td>\n",
       "      <td>P</td>\n",
       "      <td>99</td>\n",
       "      <td>1</td>\n",
       "      <td>6101</td>\n",
       "      <td>4</td>\n",
       "      <td>2</td>\n",
       "      <td>2</td>\n",
       "      <td>2</td>\n",
       "      <td>...</td>\n",
       "      <td>0.0</td>\n",
       "      <td>2013</td>\n",
       "      <td>NaN</td>\n",
       "      <td>NaN</td>\n",
       "      <td>NaN</td>\n",
       "      <td>NaN</td>\n",
       "      <td>NaN</td>\n",
       "      <td>NaN</td>\n",
       "      <td>NaN</td>\n",
       "      <td>NaN</td>\n",
       "    </tr>\n",
       "    <tr>\n",
       "      <th>1</th>\n",
       "      <td>221</td>\n",
       "      <td>6032</td>\n",
       "      <td>P</td>\n",
       "      <td>99</td>\n",
       "      <td>0</td>\n",
       "      <td>6271</td>\n",
       "      <td>8</td>\n",
       "      <td>2</td>\n",
       "      <td>1</td>\n",
       "      <td>1</td>\n",
       "      <td>...</td>\n",
       "      <td>0.0</td>\n",
       "      <td>2013</td>\n",
       "      <td>NaN</td>\n",
       "      <td>NaN</td>\n",
       "      <td>NaN</td>\n",
       "      <td>NaN</td>\n",
       "      <td>NaN</td>\n",
       "      <td>NaN</td>\n",
       "      <td>NaN</td>\n",
       "      <td>NaN</td>\n",
       "    </tr>\n",
       "    <tr>\n",
       "      <th>2</th>\n",
       "      <td>181</td>\n",
       "      <td>8907</td>\n",
       "      <td>P</td>\n",
       "      <td>99</td>\n",
       "      <td>0</td>\n",
       "      <td>6102</td>\n",
       "      <td>4</td>\n",
       "      <td>2</td>\n",
       "      <td>2</td>\n",
       "      <td>2</td>\n",
       "      <td>...</td>\n",
       "      <td>NaN</td>\n",
       "      <td>2015</td>\n",
       "      <td>NaN</td>\n",
       "      <td>NaN</td>\n",
       "      <td>NaN</td>\n",
       "      <td>NaN</td>\n",
       "      <td>NaN</td>\n",
       "      <td>NaN</td>\n",
       "      <td>NaN</td>\n",
       "      <td>NaN</td>\n",
       "    </tr>\n",
       "    <tr>\n",
       "      <th>3</th>\n",
       "      <td>252</td>\n",
       "      <td>5783</td>\n",
       "      <td>M</td>\n",
       "      <td>22</td>\n",
       "      <td>0</td>\n",
       "      <td>4403</td>\n",
       "      <td>4</td>\n",
       "      <td>2</td>\n",
       "      <td>2</td>\n",
       "      <td>2</td>\n",
       "      <td>...</td>\n",
       "      <td>NaN</td>\n",
       "      <td>2015</td>\n",
       "      <td>NaN</td>\n",
       "      <td>NaN</td>\n",
       "      <td>NaN</td>\n",
       "      <td>NaN</td>\n",
       "      <td>NaN</td>\n",
       "      <td>NaN</td>\n",
       "      <td>NaN</td>\n",
       "      <td>NaN</td>\n",
       "    </tr>\n",
       "    <tr>\n",
       "      <th>4</th>\n",
       "      <td>234</td>\n",
       "      <td>1477</td>\n",
       "      <td>P</td>\n",
       "      <td>99</td>\n",
       "      <td>0</td>\n",
       "      <td>6312</td>\n",
       "      <td>8</td>\n",
       "      <td>2</td>\n",
       "      <td>2</td>\n",
       "      <td>1</td>\n",
       "      <td>...</td>\n",
       "      <td>0.0</td>\n",
       "      <td>2015</td>\n",
       "      <td>NaN</td>\n",
       "      <td>NaN</td>\n",
       "      <td>NaN</td>\n",
       "      <td>NaN</td>\n",
       "      <td>NaN</td>\n",
       "      <td>NaN</td>\n",
       "      <td>NaN</td>\n",
       "      <td>NaN</td>\n",
       "    </tr>\n",
       "  </tbody>\n",
       "</table>\n",
       "<p>5 rows × 119 columns</p>\n",
       "</div>"
      ],
      "text/plain": [
       "   BCT_CODBUR  CTR_MATFIS CTR_CATEGO_X  FJU_CODFJU  CTR_CESSAT  ACT_CODACT  \\\n",
       "0          49       14185            P          99           1        6101   \n",
       "1         221        6032            P          99           0        6271   \n",
       "2         181        8907            P          99           0        6102   \n",
       "3         252        5783            M          22           0        4403   \n",
       "4         234        1477            P          99           0        6312   \n",
       "\n",
       "   CTR_OBLDIR  CTR_OBLACP  CTR_OBLRES  CTR_OBLFOP  ...  AX5_MNTMAR  \\\n",
       "0           4           2           2           2  ...         0.0   \n",
       "1           8           2           1           1  ...         0.0   \n",
       "2           4           2           2           2  ...         NaN   \n",
       "3           4           2           2           2  ...         NaN   \n",
       "4           8           2           2           1  ...         0.0   \n",
       "\n",
       "   RES_ANNIMP  FAC_MNTPRI_F  FAC_MFODEC_F  FAC_MNTDCO_F  FAC_MNTTVA_F  \\\n",
       "0        2013           NaN           NaN           NaN           NaN   \n",
       "1        2013           NaN           NaN           NaN           NaN   \n",
       "2        2015           NaN           NaN           NaN           NaN   \n",
       "3        2015           NaN           NaN           NaN           NaN   \n",
       "4        2015           NaN           NaN           NaN           NaN   \n",
       "\n",
       "   FAC_MNTPRI_C  FAC_MFODEC_C  FAC_MNTDCO_C  FAC_MNTTVA_C  \n",
       "0           NaN           NaN           NaN           NaN  \n",
       "1           NaN           NaN           NaN           NaN  \n",
       "2           NaN           NaN           NaN           NaN  \n",
       "3           NaN           NaN           NaN           NaN  \n",
       "4           NaN           NaN           NaN           NaN  \n",
       "\n",
       "[5 rows x 119 columns]"
      ]
     },
     "execution_count": 3,
     "metadata": {},
     "output_type": "execute_result"
    }
   ],
   "source": [
    "all_data.drop('id',axis=1,inplace=True)\n",
    "all_data.head()"
   ]
  },
  {
   "cell_type": "code",
   "execution_count": 4,
   "metadata": {},
   "outputs": [
    {
     "name": "stdout",
     "output_type": "stream",
     "text": [
      "all_data size is : (35791, 119)\n"
     ]
    }
   ],
   "source": [
    "print(\"all_data size is : {}\".format(all_data.shape))"
   ]
  },
  {
   "cell_type": "code",
   "execution_count": 5,
   "metadata": {},
   "outputs": [],
   "source": [
    "cols_with_missing = [col for col in all_data.columns\n",
    "                     if all_data[col].isnull().any()]\n",
    "\n"
   ]
  },
  {
   "cell_type": "code",
   "execution_count": 6,
   "metadata": {},
   "outputs": [],
   "source": [
    "col_to_drop=[]\n",
    "for col in cols_with_missing:\n",
    "    perc = (all_data[col].isnull().sum()/len(all_data[col]))*100\n",
    "    if perc>70:\n",
    "        col_to_drop.append(col)\n",
    "        \n"
   ]
  },
  {
   "cell_type": "code",
   "execution_count": 7,
   "metadata": {},
   "outputs": [],
   "source": [
    "all_data.drop(col_to_drop,axis=1,inplace=True)"
   ]
  },
  {
   "cell_type": "code",
   "execution_count": 8,
   "metadata": {},
   "outputs": [
    {
     "data": {
      "text/plain": [
       "(35791, 89)"
      ]
     },
     "execution_count": 8,
     "metadata": {},
     "output_type": "execute_result"
    }
   ],
   "source": [
    "all_data.shape"
   ]
  },
  {
   "cell_type": "code",
   "execution_count": 9,
   "metadata": {},
   "outputs": [],
   "source": [
    "col_object=[]\n",
    "for col in all_data.columns:\n",
    "    if all_data[col].dtype == 'object':\n",
    "        col_object.append(col)"
   ]
  },
  {
   "cell_type": "code",
   "execution_count": 10,
   "metadata": {},
   "outputs": [
    {
     "data": {
      "text/plain": [
       "['CTR_CATEGO_X']"
      ]
     },
     "execution_count": 10,
     "metadata": {},
     "output_type": "execute_result"
    }
   ],
   "source": [
    "col_object"
   ]
  },
  {
   "cell_type": "code",
   "execution_count": 11,
   "metadata": {},
   "outputs": [],
   "source": [
    "col_to_add = ['TVA_CHAF36','TVA_CHAF29','TVA_CHAF22','TVA_CHAF18','TVA_CHAF15','TVA_CAF125','TVA_CHAF12','TVA_CHAF10','TVA_CHAFF7','TVA_CHAFF6']\n",
    "z=[]\n",
    "for index, row in all_data.iterrows():\n",
    "    z.append(row.TVA_CHAF36 + row.TVA_CHAF29+row.TVA_CHAF22+row.TVA_CHAF18+row.TVA_CHAF15+row.TVA_CAF125+row.TVA_CHAF12+row.TVA_CHAF10+row.TVA_CHAFF7+row.TVA_CHAFF6)\n",
    "all_data['TVA_sum_average'] = z\n",
    "all_data['TVA_sum_average'] = all_data['TVA_sum_average']/len(col_to_add)\n",
    "all_data.drop(col_to_add,axis=1,inplace=True)"
   ]
  },
  {
   "cell_type": "code",
   "execution_count": 12,
   "metadata": {},
   "outputs": [
    {
     "data": {
      "text/plain": [
       "(35791, 80)"
      ]
     },
     "execution_count": 12,
     "metadata": {},
     "output_type": "execute_result"
    }
   ],
   "source": [
    "all_data.shape"
   ]
  },
  {
   "cell_type": "code",
   "execution_count": 13,
   "metadata": {},
   "outputs": [],
   "source": [
    "coll = ['TVA_BASIMB','TVA_DEDIMB','TVA_BASEQL','TVA_DEDEQL','TVA_BASAUL','TVA_DEDAUL','TVA_BASAUI','TVA_DEDAUI','TVA_BASRSM','TVA_DEDRSM','TVA_RSNRES','TVA_TRSPOR','TVA_DEDREG','TVA_RESTIT']\n",
    "col_to_add=[]\n",
    "for r in coll:\n",
    "    if r in all_data.columns:\n",
    "        col_to_add.append(r)\n",
    "        \n",
    "    \n",
    "z=[]\n",
    "for index, row in all_data.iterrows():\n",
    "    su = 0\n",
    "    for h in col_to_add:\n",
    "        su=su+row[h]\n",
    "    z.append(su)\n",
    "        \n",
    "all_data['TVA_sum_average1'] = z\n",
    "all_data['TVA_sum_average1'] = all_data['TVA_sum_average1']/len(col_to_add)\n",
    "all_data['TVA_sum_average1'] = all_data['TVA_sum_average1']/len(col_to_add)\n",
    "all_data.drop(col_to_add,axis=1,inplace=True)"
   ]
  },
  {
   "cell_type": "code",
   "execution_count": 14,
   "metadata": {},
   "outputs": [
    {
     "data": {
      "text/plain": [
       "(35791, 67)"
      ]
     },
     "execution_count": 14,
     "metadata": {},
     "output_type": "execute_result"
    }
   ],
   "source": [
    "all_data.shape"
   ]
  },
  {
   "cell_type": "code",
   "execution_count": 15,
   "metadata": {},
   "outputs": [],
   "source": [
    "coll =['TVA_CA072018','TVA_CA132018','TVA_CA192018']\n",
    "col_to_add=[]\n",
    "for r in coll:\n",
    "    if r in all_data.columns:\n",
    "        col_to_add.append(r)    \n",
    "z=[]\n",
    "for index, row in all_data.iterrows():\n",
    "    su = 0\n",
    "    for h in col_to_add:\n",
    "        su=su+row[h]\n",
    "    z.append(su)\n",
    "        \n",
    "all_data['TVA_sum_average2'] = z\n",
    "all_data['TVA_sum_average2'] = all_data['TVA_sum_average2']/len(col_to_add)\n",
    "all_data.drop(col_to_add,axis=1,inplace=True)"
   ]
  },
  {
   "cell_type": "code",
   "execution_count": 16,
   "metadata": {},
   "outputs": [
    {
     "data": {
      "text/plain": [
       "Index(['BCT_CODBUR', 'CTR_MATFIS', 'CTR_CATEGO_X', 'FJU_CODFJU', 'CTR_CESSAT',\n",
       "       'ACT_CODACT', 'CTR_OBLDIR', 'CTR_OBLACP', 'CTR_OBLRES', 'CTR_OBLFOP',\n",
       "       'CTR_OBLTFP', 'CTR_OBLDCO', 'CTR_OBLTVA', 'CTR_OFODEC', 'CTR_OFODEP',\n",
       "       'CTR_OFODET', 'CTR_OBLAUT', 'CTR_OBLASS', 'CTR_ODTIMB', 'CTR_OBLTCL',\n",
       "       'CTR_OBLTHO', 'CTR_OBLDLI', 'CTR_OBLTVI', 'CTR_RATISS', 'EXE_EXERCI',\n",
       "       'TVA_TOTDUE', 'TVA_MOIDEB', 'TVA_CRDINI', 'TVA_BASEQI', 'TVA_DEDEQI',\n",
       "       'TVA_MNTPAY', 'TVA_MOIFIN', 'TVA_CRDFIN', 'TVA_ACHSUS', 'TVA_ACHEXO',\n",
       "       'TVA_ACHNDD', 'TVA_CAFEXP', 'TVA_CAFSUS', 'TVA_CAFEXO', 'TVA_AACHAB',\n",
       "       'TVA_CRDBLQ', 'TVA_CRDRES', 'TVA_CRDRMP', 'TVA_CRDREP', 'TVA_CRDRMC',\n",
       "       'TVA_MACHN', 'TVA_MCESQ', 'TVA_MTVLSM', 'TVA_TXVLSM', 'TVA_MTALSM',\n",
       "       'TVA_TXALSM', 'TVA_MTORDTVA', 'TVA_MTDJRTVA', 'TVA_MTORDTAX',\n",
       "       'TVA_MTDJRTAX', 'TVA_MTRESTAX', 'AX1_BRTIMP', 'AX2_HONORA',\n",
       "       'AX2_LOYERS', 'AX3_REVCAP', 'AX5_MNTMAR', 'RES_ANNIMP',\n",
       "       'TVA_sum_average', 'TVA_sum_average1', 'TVA_sum_average2'],\n",
       "      dtype='object')"
      ]
     },
     "execution_count": 16,
     "metadata": {},
     "output_type": "execute_result"
    }
   ],
   "source": [
    "all_data.columns"
   ]
  },
  {
   "cell_type": "code",
   "execution_count": 17,
   "metadata": {},
   "outputs": [],
   "source": [
    "coll =['CTR_OBLDIR','CTR_OBLACP','CTR_OBLRES','CTR_OBLFOP','CTR_OBLTFP','CTR_OBLDCO','CTR_OBLTVA','CTR_OFODEC','CTR_OFODEP','CTR_OFODET','CTR_OBLAUT','CTR_OBLASS','CTR_ODTIMB','CTR_OBLTCL','CTR_OBLTHO','CTR_OBLDLI','CTR_OBLTVI','CTR_RATISS']\n",
    "col_to_add=[]\n",
    "for r in coll:\n",
    "    if r in all_data.columns:\n",
    "        col_to_add.append(r)    \n",
    "\n",
    "z=[]\n",
    "for index, row in all_data.iterrows():\n",
    "    su = 0\n",
    "    for h in col_to_add:\n",
    "        su=su+row[h]\n",
    "    z.append(su)\n",
    "        \n",
    "all_data['CTR_average'] = z\n",
    "all_data['CTR_average'] = all_data['CTR_average']/len(col_to_add)\n",
    "all_data.drop(col_to_add,axis=1,inplace=True)"
   ]
  },
  {
   "cell_type": "code",
   "execution_count": 18,
   "metadata": {},
   "outputs": [],
   "source": [
    "coll =['AX1_BRTIMP','AX2_HONORA','AX2_LOYERS','AX3_REVCAP','AX5_MNTMAR']\n",
    "col_to_add=[]\n",
    "for r in coll:\n",
    "    if r in all_data.columns:\n",
    "        col_to_add.append(r)    \n",
    "\n",
    "z=[]\n",
    "for index, row in all_data.iterrows():\n",
    "    su = 0\n",
    "    for h in col_to_add:\n",
    "        su=su+row[h]\n",
    "    z.append(su)\n",
    "        \n",
    "all_data['AX'] = z\n",
    "all_data['AX'] = all_data['AX']/len(col_to_add)\n",
    "all_data.drop(col_to_add,axis=1,inplace=True)"
   ]
  },
  {
   "cell_type": "code",
   "execution_count": 19,
   "metadata": {},
   "outputs": [
    {
     "data": {
      "text/plain": [
       "(35791, 44)"
      ]
     },
     "execution_count": 19,
     "metadata": {},
     "output_type": "execute_result"
    }
   ],
   "source": [
    "all_data.shape"
   ]
  },
  {
   "cell_type": "code",
   "execution_count": 20,
   "metadata": {},
   "outputs": [],
   "source": [
    "coll =['TVA_ACHNDD','TVA_ACHEXO','TVA_ACHSUS','TVA_CAFEXP','TVA_CAFSUS','TVA_CAFEXO','TVA_AACHAB','TVA_CRDBLQ','TVA_CRDRES','TVA_CRDRMP','TVA_CRDREP','TVA_CRDRMC','TVA_MACHN','TVA_MCESQ','TVA_MTVLSM','TVA_MTALSM','TVA_TXALSM','TVA_MTORDTVA','TVA_MTDJRTVA','TVA_MTORDTAX','TVA_MTDJRTAX','TVA_MTRESTAX']\n",
    "col_to_add=[]\n",
    "for r in coll:\n",
    "    if r in all_data.columns:\n",
    "        col_to_add.append(r)    \n",
    "\n",
    "z=[]\n",
    "for index, row in all_data.iterrows():\n",
    "    su = 0\n",
    "    for h in col_to_add:\n",
    "        su=su+row[h]\n",
    "    z.append(su)\n",
    "        \n",
    "all_data['TVA3'] = z\n",
    "all_data['TVA3'] = all_data['TVA3']/len(col_to_add)\n",
    "all_data.drop(col_to_add,axis=1,inplace=True)"
   ]
  },
  {
   "cell_type": "code",
   "execution_count": 21,
   "metadata": {},
   "outputs": [
    {
     "data": {
      "text/plain": [
       "(35791, 23)"
      ]
     },
     "execution_count": 21,
     "metadata": {},
     "output_type": "execute_result"
    }
   ],
   "source": [
    "all_data.shape"
   ]
  },
  {
   "cell_type": "code",
   "execution_count": 22,
   "metadata": {},
   "outputs": [
    {
     "data": {
      "text/plain": [
       "['TVA_TOTDUE',\n",
       " 'TVA_MOIDEB',\n",
       " 'TVA_CRDINI',\n",
       " 'TVA_BASEQI',\n",
       " 'TVA_DEDEQI',\n",
       " 'TVA_MNTPAY',\n",
       " 'TVA_MOIFIN',\n",
       " 'TVA_CRDFIN',\n",
       " 'TVA_TXVLSM',\n",
       " 'TVA_sum_average',\n",
       " 'TVA_sum_average1',\n",
       " 'TVA_sum_average2',\n",
       " 'CTR_average',\n",
       " 'AX',\n",
       " 'TVA3']"
      ]
     },
     "execution_count": 22,
     "metadata": {},
     "output_type": "execute_result"
    }
   ],
   "source": [
    "cols_with_missing = [col for col in all_data.columns\n",
    "                     if all_data[col].isnull().any()]\n",
    "cols_with_missing"
   ]
  },
  {
   "cell_type": "code",
   "execution_count": 23,
   "metadata": {},
   "outputs": [
    {
     "name": "stdout",
     "output_type": "stream",
     "text": [
      "TVA_TOTDUE :  7.772903802631946\n",
      "TVA_MOIDEB :  7.772903802631946\n",
      "TVA_CRDINI :  7.772903802631946\n",
      "TVA_BASEQI :  7.772903802631946\n",
      "TVA_DEDEQI :  7.772903802631946\n",
      "TVA_MNTPAY :  7.772903802631946\n",
      "TVA_MOIFIN :  7.772903802631946\n",
      "TVA_CRDFIN :  7.772903802631946\n",
      "TVA_TXVLSM :  7.772903802631946\n",
      "TVA_sum_average :  7.772903802631946\n",
      "TVA_sum_average1 :  7.772903802631946\n",
      "TVA_sum_average2 :  7.772903802631946\n",
      "CTR_average :  0.03911597887737141\n",
      "AX :  24.22396691905786\n",
      "TVA3 :  7.772903802631946\n"
     ]
    }
   ],
   "source": [
    "for col in cols_with_missing:\n",
    "    perc = (all_data[col].isnull().sum()/len(all_data[col]))*100\n",
    "    print(col,': ',perc)"
   ]
  },
  {
   "cell_type": "code",
   "execution_count": 24,
   "metadata": {},
   "outputs": [
    {
     "data": {
      "text/html": [
       "<div>\n",
       "<style scoped>\n",
       "    .dataframe tbody tr th:only-of-type {\n",
       "        vertical-align: middle;\n",
       "    }\n",
       "\n",
       "    .dataframe tbody tr th {\n",
       "        vertical-align: top;\n",
       "    }\n",
       "\n",
       "    .dataframe thead th {\n",
       "        text-align: right;\n",
       "    }\n",
       "</style>\n",
       "<table border=\"1\" class=\"dataframe\">\n",
       "  <thead>\n",
       "    <tr style=\"text-align: right;\">\n",
       "      <th></th>\n",
       "      <th>BCT_CODBUR</th>\n",
       "      <th>CTR_MATFIS</th>\n",
       "      <th>CTR_CATEGO_X</th>\n",
       "      <th>FJU_CODFJU</th>\n",
       "      <th>CTR_CESSAT</th>\n",
       "      <th>ACT_CODACT</th>\n",
       "      <th>EXE_EXERCI</th>\n",
       "      <th>TVA_TOTDUE</th>\n",
       "      <th>TVA_MOIDEB</th>\n",
       "      <th>TVA_CRDINI</th>\n",
       "      <th>...</th>\n",
       "      <th>TVA_MOIFIN</th>\n",
       "      <th>TVA_CRDFIN</th>\n",
       "      <th>TVA_TXVLSM</th>\n",
       "      <th>RES_ANNIMP</th>\n",
       "      <th>TVA_sum_average</th>\n",
       "      <th>TVA_sum_average1</th>\n",
       "      <th>TVA_sum_average2</th>\n",
       "      <th>CTR_average</th>\n",
       "      <th>AX</th>\n",
       "      <th>TVA3</th>\n",
       "    </tr>\n",
       "  </thead>\n",
       "  <tbody>\n",
       "    <tr>\n",
       "      <th>0</th>\n",
       "      <td>49</td>\n",
       "      <td>14185</td>\n",
       "      <td>P</td>\n",
       "      <td>99</td>\n",
       "      <td>1</td>\n",
       "      <td>6101</td>\n",
       "      <td>2013</td>\n",
       "      <td>6422250.0</td>\n",
       "      <td>1.0</td>\n",
       "      <td>0.0</td>\n",
       "      <td>...</td>\n",
       "      <td>12.0</td>\n",
       "      <td>0.0</td>\n",
       "      <td>0.0</td>\n",
       "      <td>2013</td>\n",
       "      <td>5321250.0</td>\n",
       "      <td>681.142857</td>\n",
       "      <td>0.0</td>\n",
       "      <td>1.500000</td>\n",
       "      <td>12288526.0</td>\n",
       "      <td>0.0</td>\n",
       "    </tr>\n",
       "    <tr>\n",
       "      <th>1</th>\n",
       "      <td>221</td>\n",
       "      <td>6032</td>\n",
       "      <td>P</td>\n",
       "      <td>99</td>\n",
       "      <td>0</td>\n",
       "      <td>6271</td>\n",
       "      <td>2013</td>\n",
       "      <td>720000.0</td>\n",
       "      <td>1.0</td>\n",
       "      <td>0.0</td>\n",
       "      <td>...</td>\n",
       "      <td>12.0</td>\n",
       "      <td>0.0</td>\n",
       "      <td>0.0</td>\n",
       "      <td>2013</td>\n",
       "      <td>1200000.0</td>\n",
       "      <td>0.000000</td>\n",
       "      <td>0.0</td>\n",
       "      <td>1.555556</td>\n",
       "      <td>2870056.0</td>\n",
       "      <td>0.0</td>\n",
       "    </tr>\n",
       "    <tr>\n",
       "      <th>2</th>\n",
       "      <td>181</td>\n",
       "      <td>8907</td>\n",
       "      <td>P</td>\n",
       "      <td>99</td>\n",
       "      <td>0</td>\n",
       "      <td>6102</td>\n",
       "      <td>2015</td>\n",
       "      <td>3831117.0</td>\n",
       "      <td>1.0</td>\n",
       "      <td>0.0</td>\n",
       "      <td>...</td>\n",
       "      <td>12.0</td>\n",
       "      <td>192751.0</td>\n",
       "      <td>0.0</td>\n",
       "      <td>2015</td>\n",
       "      <td>3192602.6</td>\n",
       "      <td>134801.295918</td>\n",
       "      <td>0.0</td>\n",
       "      <td>1.500000</td>\n",
       "      <td>NaN</td>\n",
       "      <td>0.0</td>\n",
       "    </tr>\n",
       "    <tr>\n",
       "      <th>3</th>\n",
       "      <td>252</td>\n",
       "      <td>5783</td>\n",
       "      <td>M</td>\n",
       "      <td>22</td>\n",
       "      <td>0</td>\n",
       "      <td>4403</td>\n",
       "      <td>2015</td>\n",
       "      <td>0.0</td>\n",
       "      <td>1.0</td>\n",
       "      <td>45425.0</td>\n",
       "      <td>...</td>\n",
       "      <td>12.0</td>\n",
       "      <td>1680387.0</td>\n",
       "      <td>0.0</td>\n",
       "      <td>2015</td>\n",
       "      <td>0.0</td>\n",
       "      <td>54684.102041</td>\n",
       "      <td>0.0</td>\n",
       "      <td>1.555556</td>\n",
       "      <td>NaN</td>\n",
       "      <td>0.0</td>\n",
       "    </tr>\n",
       "    <tr>\n",
       "      <th>4</th>\n",
       "      <td>234</td>\n",
       "      <td>1477</td>\n",
       "      <td>P</td>\n",
       "      <td>99</td>\n",
       "      <td>0</td>\n",
       "      <td>6312</td>\n",
       "      <td>2015</td>\n",
       "      <td>1319958.0</td>\n",
       "      <td>1.0</td>\n",
       "      <td>0.0</td>\n",
       "      <td>...</td>\n",
       "      <td>12.0</td>\n",
       "      <td>0.0</td>\n",
       "      <td>0.0</td>\n",
       "      <td>2015</td>\n",
       "      <td>1099965.3</td>\n",
       "      <td>36641.510204</td>\n",
       "      <td>0.0</td>\n",
       "      <td>1.611111</td>\n",
       "      <td>4320905.8</td>\n",
       "      <td>0.0</td>\n",
       "    </tr>\n",
       "  </tbody>\n",
       "</table>\n",
       "<p>5 rows × 23 columns</p>\n",
       "</div>"
      ],
      "text/plain": [
       "   BCT_CODBUR  CTR_MATFIS CTR_CATEGO_X  FJU_CODFJU  CTR_CESSAT  ACT_CODACT  \\\n",
       "0          49       14185            P          99           1        6101   \n",
       "1         221        6032            P          99           0        6271   \n",
       "2         181        8907            P          99           0        6102   \n",
       "3         252        5783            M          22           0        4403   \n",
       "4         234        1477            P          99           0        6312   \n",
       "\n",
       "   EXE_EXERCI  TVA_TOTDUE  TVA_MOIDEB  TVA_CRDINI  ...  TVA_MOIFIN  \\\n",
       "0        2013   6422250.0         1.0         0.0  ...        12.0   \n",
       "1        2013    720000.0         1.0         0.0  ...        12.0   \n",
       "2        2015   3831117.0         1.0         0.0  ...        12.0   \n",
       "3        2015         0.0         1.0     45425.0  ...        12.0   \n",
       "4        2015   1319958.0         1.0         0.0  ...        12.0   \n",
       "\n",
       "   TVA_CRDFIN  TVA_TXVLSM  RES_ANNIMP  TVA_sum_average  TVA_sum_average1  \\\n",
       "0         0.0         0.0        2013        5321250.0        681.142857   \n",
       "1         0.0         0.0        2013        1200000.0          0.000000   \n",
       "2    192751.0         0.0        2015        3192602.6     134801.295918   \n",
       "3   1680387.0         0.0        2015              0.0      54684.102041   \n",
       "4         0.0         0.0        2015        1099965.3      36641.510204   \n",
       "\n",
       "   TVA_sum_average2  CTR_average          AX  TVA3  \n",
       "0               0.0     1.500000  12288526.0   0.0  \n",
       "1               0.0     1.555556   2870056.0   0.0  \n",
       "2               0.0     1.500000         NaN   0.0  \n",
       "3               0.0     1.555556         NaN   0.0  \n",
       "4               0.0     1.611111   4320905.8   0.0  \n",
       "\n",
       "[5 rows x 23 columns]"
      ]
     },
     "execution_count": 24,
     "metadata": {},
     "output_type": "execute_result"
    }
   ],
   "source": [
    "all_data.head()"
   ]
  },
  {
   "cell_type": "code",
   "execution_count": 25,
   "metadata": {},
   "outputs": [],
   "source": [
    "\n",
    "for col in cols_with_missing:\n",
    "    mean=all_data.describe()[col]['mean']\n",
    "    temporary = all_data[col]\n",
    "    temporary.fillna(mean,inplace=True)\n",
    "    all_data[col]=temporary"
   ]
  },
  {
   "cell_type": "code",
   "execution_count": 26,
   "metadata": {},
   "outputs": [
    {
     "name": "stdout",
     "output_type": "stream",
     "text": [
      "TVA_TOTDUE :  0.0\n",
      "TVA_MOIDEB :  0.0\n",
      "TVA_CRDINI :  0.0\n",
      "TVA_BASEQI :  0.0\n",
      "TVA_DEDEQI :  0.0\n",
      "TVA_MNTPAY :  0.0\n",
      "TVA_MOIFIN :  0.0\n",
      "TVA_CRDFIN :  0.0\n",
      "TVA_TXVLSM :  0.0\n",
      "TVA_sum_average :  0.0\n",
      "TVA_sum_average1 :  0.0\n",
      "TVA_sum_average2 :  0.0\n",
      "CTR_average :  0.0\n",
      "AX :  0.0\n",
      "TVA3 :  0.0\n"
     ]
    }
   ],
   "source": [
    "for col in cols_with_missing:\n",
    "    perc = (all_data[col].isnull().sum()/len(all_data[col]))*100\n",
    "    print(col,': ',perc)"
   ]
  },
  {
   "cell_type": "code",
   "execution_count": 27,
   "metadata": {},
   "outputs": [
    {
     "data": {
      "text/plain": [
       "array(['P', 'M', 'C', 'N'], dtype=object)"
      ]
     },
     "execution_count": 27,
     "metadata": {},
     "output_type": "execute_result"
    }
   ],
   "source": [
    "all_data['CTR_CATEGO_X'].unique()"
   ]
  },
  {
   "cell_type": "code",
   "execution_count": null,
   "metadata": {},
   "outputs": [],
   "source": []
  },
  {
   "cell_type": "code",
   "execution_count": null,
   "metadata": {},
   "outputs": [],
   "source": []
  },
  {
   "cell_type": "code",
   "execution_count": 28,
   "metadata": {},
   "outputs": [],
   "source": [
    "#trying label encoder \n",
    "from sklearn.preprocessing import LabelEncoder\n",
    "label_encoder = LabelEncoder()\n",
    "all_data['CTR_CATEGO_X']=label_encoder.fit_transform(all_data['CTR_CATEGO_X'])\n",
    "\n",
    "    "
   ]
  },
  {
   "cell_type": "code",
   "execution_count": 29,
   "metadata": {},
   "outputs": [
    {
     "data": {
      "text/plain": [
       "<matplotlib.axes._subplots.AxesSubplot at 0x25b2e6d8898>"
      ]
     },
     "execution_count": 29,
     "metadata": {},
     "output_type": "execute_result"
    },
    {
     "data": {
      "image/png": "[encoded data removed]",
      "text/plain": [
       "<Figure size 1008x1008 with 2 Axes>"
      ]
     },
     "metadata": {
      "needs_background": "light"
     },
     "output_type": "display_data"
    }
   ],
   "source": [
    "other = all_data\n",
    "corr_matrix = all_data.corr()\n",
    "plt.figure(figsize=(14,14))\n",
    "sns.heatmap(corr_matrix)"
   ]
  },
  {
   "cell_type": "code",
   "execution_count": 30,
   "metadata": {},
   "outputs": [],
   "source": [
    "all_data.drop(['TVA_CRDFIN','BCT_CODBUR'],axis=1,inplace=True)"
   ]
  },
  {
   "cell_type": "code",
   "execution_count": 31,
   "metadata": {},
   "outputs": [],
   "source": [
    "train_data = all_data[:len(train)]\n",
    "test_data = all_data[len(train):]\n",
    "y=target\n",
    "X=train_data"
   ]
  },
  {
   "cell_type": "code",
   "execution_count": 32,
   "metadata": {},
   "outputs": [
    {
     "data": {
      "text/html": [
       "<div>\n",
       "<style scoped>\n",
       "    .dataframe tbody tr th:only-of-type {\n",
       "        vertical-align: middle;\n",
       "    }\n",
       "\n",
       "    .dataframe tbody tr th {\n",
       "        vertical-align: top;\n",
       "    }\n",
       "\n",
       "    .dataframe thead th {\n",
       "        text-align: right;\n",
       "    }\n",
       "</style>\n",
       "<table border=\"1\" class=\"dataframe\">\n",
       "  <thead>\n",
       "    <tr style=\"text-align: right;\">\n",
       "      <th></th>\n",
       "      <th>CTR_MATFIS</th>\n",
       "      <th>CTR_CATEGO_X</th>\n",
       "      <th>FJU_CODFJU</th>\n",
       "      <th>CTR_CESSAT</th>\n",
       "      <th>ACT_CODACT</th>\n",
       "      <th>EXE_EXERCI</th>\n",
       "      <th>TVA_TOTDUE</th>\n",
       "      <th>TVA_MOIDEB</th>\n",
       "      <th>TVA_CRDINI</th>\n",
       "      <th>TVA_BASEQI</th>\n",
       "      <th>...</th>\n",
       "      <th>TVA_MNTPAY</th>\n",
       "      <th>TVA_MOIFIN</th>\n",
       "      <th>TVA_TXVLSM</th>\n",
       "      <th>RES_ANNIMP</th>\n",
       "      <th>TVA_sum_average</th>\n",
       "      <th>TVA_sum_average1</th>\n",
       "      <th>TVA_sum_average2</th>\n",
       "      <th>CTR_average</th>\n",
       "      <th>AX</th>\n",
       "      <th>TVA3</th>\n",
       "    </tr>\n",
       "  </thead>\n",
       "  <tbody>\n",
       "    <tr>\n",
       "      <th>0</th>\n",
       "      <td>14185</td>\n",
       "      <td>3</td>\n",
       "      <td>99</td>\n",
       "      <td>1</td>\n",
       "      <td>6101</td>\n",
       "      <td>2013</td>\n",
       "      <td>6422250.0</td>\n",
       "      <td>1.0</td>\n",
       "      <td>0.0</td>\n",
       "      <td>0.0</td>\n",
       "      <td>...</td>\n",
       "      <td>6412354.0</td>\n",
       "      <td>12.0</td>\n",
       "      <td>0.0</td>\n",
       "      <td>2013</td>\n",
       "      <td>5321250.0</td>\n",
       "      <td>681.142857</td>\n",
       "      <td>0.0</td>\n",
       "      <td>1.500000</td>\n",
       "      <td>1.228853e+07</td>\n",
       "      <td>0.0</td>\n",
       "    </tr>\n",
       "    <tr>\n",
       "      <th>1</th>\n",
       "      <td>6032</td>\n",
       "      <td>3</td>\n",
       "      <td>99</td>\n",
       "      <td>0</td>\n",
       "      <td>6271</td>\n",
       "      <td>2013</td>\n",
       "      <td>720000.0</td>\n",
       "      <td>1.0</td>\n",
       "      <td>0.0</td>\n",
       "      <td>0.0</td>\n",
       "      <td>...</td>\n",
       "      <td>720000.0</td>\n",
       "      <td>12.0</td>\n",
       "      <td>0.0</td>\n",
       "      <td>2013</td>\n",
       "      <td>1200000.0</td>\n",
       "      <td>0.000000</td>\n",
       "      <td>0.0</td>\n",
       "      <td>1.555556</td>\n",
       "      <td>2.870056e+06</td>\n",
       "      <td>0.0</td>\n",
       "    </tr>\n",
       "    <tr>\n",
       "      <th>2</th>\n",
       "      <td>8907</td>\n",
       "      <td>3</td>\n",
       "      <td>99</td>\n",
       "      <td>0</td>\n",
       "      <td>6102</td>\n",
       "      <td>2015</td>\n",
       "      <td>3831117.0</td>\n",
       "      <td>1.0</td>\n",
       "      <td>0.0</td>\n",
       "      <td>0.0</td>\n",
       "      <td>...</td>\n",
       "      <td>31150.0</td>\n",
       "      <td>12.0</td>\n",
       "      <td>0.0</td>\n",
       "      <td>2015</td>\n",
       "      <td>3192602.6</td>\n",
       "      <td>134801.295918</td>\n",
       "      <td>0.0</td>\n",
       "      <td>1.500000</td>\n",
       "      <td>2.336831e+08</td>\n",
       "      <td>0.0</td>\n",
       "    </tr>\n",
       "    <tr>\n",
       "      <th>3</th>\n",
       "      <td>5783</td>\n",
       "      <td>1</td>\n",
       "      <td>22</td>\n",
       "      <td>0</td>\n",
       "      <td>4403</td>\n",
       "      <td>2015</td>\n",
       "      <td>0.0</td>\n",
       "      <td>1.0</td>\n",
       "      <td>45425.0</td>\n",
       "      <td>0.0</td>\n",
       "      <td>...</td>\n",
       "      <td>0.0</td>\n",
       "      <td>12.0</td>\n",
       "      <td>0.0</td>\n",
       "      <td>2015</td>\n",
       "      <td>0.0</td>\n",
       "      <td>54684.102041</td>\n",
       "      <td>0.0</td>\n",
       "      <td>1.555556</td>\n",
       "      <td>2.336831e+08</td>\n",
       "      <td>0.0</td>\n",
       "    </tr>\n",
       "    <tr>\n",
       "      <th>4</th>\n",
       "      <td>1477</td>\n",
       "      <td>3</td>\n",
       "      <td>99</td>\n",
       "      <td>0</td>\n",
       "      <td>6312</td>\n",
       "      <td>2015</td>\n",
       "      <td>1319958.0</td>\n",
       "      <td>1.0</td>\n",
       "      <td>0.0</td>\n",
       "      <td>0.0</td>\n",
       "      <td>...</td>\n",
       "      <td>224442.0</td>\n",
       "      <td>12.0</td>\n",
       "      <td>0.0</td>\n",
       "      <td>2015</td>\n",
       "      <td>1099965.3</td>\n",
       "      <td>36641.510204</td>\n",
       "      <td>0.0</td>\n",
       "      <td>1.611111</td>\n",
       "      <td>4.320906e+06</td>\n",
       "      <td>0.0</td>\n",
       "    </tr>\n",
       "  </tbody>\n",
       "</table>\n",
       "<p>5 rows × 21 columns</p>\n",
       "</div>"
      ],
      "text/plain": [
       "   CTR_MATFIS  CTR_CATEGO_X  FJU_CODFJU  CTR_CESSAT  ACT_CODACT  EXE_EXERCI  \\\n",
       "0       14185             3          99           1        6101        2013   \n",
       "1        6032             3          99           0        6271        2013   \n",
       "2        8907             3          99           0        6102        2015   \n",
       "3        5783             1          22           0        4403        2015   \n",
       "4        1477             3          99           0        6312        2015   \n",
       "\n",
       "   TVA_TOTDUE  TVA_MOIDEB  TVA_CRDINI  TVA_BASEQI  ...  TVA_MNTPAY  \\\n",
       "0   6422250.0         1.0         0.0         0.0  ...   6412354.0   \n",
       "1    720000.0         1.0         0.0         0.0  ...    720000.0   \n",
       "2   3831117.0         1.0         0.0         0.0  ...     31150.0   \n",
       "3         0.0         1.0     45425.0         0.0  ...         0.0   \n",
       "4   1319958.0         1.0         0.0         0.0  ...    224442.0   \n",
       "\n",
       "   TVA_MOIFIN  TVA_TXVLSM  RES_ANNIMP  TVA_sum_average  TVA_sum_average1  \\\n",
       "0        12.0         0.0        2013        5321250.0        681.142857   \n",
       "1        12.0         0.0        2013        1200000.0          0.000000   \n",
       "2        12.0         0.0        2015        3192602.6     134801.295918   \n",
       "3        12.0         0.0        2015              0.0      54684.102041   \n",
       "4        12.0         0.0        2015        1099965.3      36641.510204   \n",
       "\n",
       "   TVA_sum_average2  CTR_average            AX  TVA3  \n",
       "0               0.0     1.500000  1.228853e+07   0.0  \n",
       "1               0.0     1.555556  2.870056e+06   0.0  \n",
       "2               0.0     1.500000  2.336831e+08   0.0  \n",
       "3               0.0     1.555556  2.336831e+08   0.0  \n",
       "4               0.0     1.611111  4.320906e+06   0.0  \n",
       "\n",
       "[5 rows x 21 columns]"
      ]
     },
     "execution_count": 32,
     "metadata": {},
     "output_type": "execute_result"
    }
   ],
   "source": [
    "X.head()"
   ]
  },
  {
   "cell_type": "code",
   "execution_count": 33,
   "metadata": {},
   "outputs": [
    {
     "name": "stderr",
     "output_type": "stream",
     "text": [
      "C:\\Users\\ASUS\\Anaconda3\\lib\\site-packages\\xgboost\\core.py:587: FutureWarning: Series.base is deprecated and will be removed in a future version\n",
      "  if getattr(data, 'base', None) is not None and \\\n",
      "C:\\Users\\ASUS\\Anaconda3\\lib\\site-packages\\xgboost\\core.py:588: FutureWarning: Series.base is deprecated and will be removed in a future version\n",
      "  data.base is not None and isinstance(data, np.ndarray) \\\n"
     ]
    }
   ],
   "source": [
    "from sklearn.metrics import mean_squared_error\n",
    "from xgboost.sklearn import XGBRegressor\n",
    "param= {'colsample_bytree': 0.7, 'learning_rate': 0.015, 'max_depth': 7,\n",
    "        'min_child_weight': 6, 'n_estimators': 800, 'nthread': 4,\n",
    "        'objective': 'reg:linear', 'silent': 1, 'subsample': 0.9}\n",
    "xgb_other = XGBRegressor(**param)\n",
    "xgb_other.fit(X,y)\n",
    "pred = xgb_other.predict(test_data)\n"
   ]
  },
  {
   "cell_type": "code",
   "execution_count": 34,
   "metadata": {},
   "outputs": [],
   "source": [
    "submit=pd.DataFrame()\n",
    "submit['id']=idd\n",
    "submit['target']=pred"
   ]
  },
  {
   "cell_type": "code",
   "execution_count": 35,
   "metadata": {},
   "outputs": [
    {
     "data": {
      "text/html": [
       "<div>\n",
       "<style scoped>\n",
       "    .dataframe tbody tr th:only-of-type {\n",
       "        vertical-align: middle;\n",
       "    }\n",
       "\n",
       "    .dataframe tbody tr th {\n",
       "        vertical-align: top;\n",
       "    }\n",
       "\n",
       "    .dataframe thead th {\n",
       "        text-align: right;\n",
       "    }\n",
       "</style>\n",
       "<table border=\"1\" class=\"dataframe\">\n",
       "  <thead>\n",
       "    <tr style=\"text-align: right;\">\n",
       "      <th></th>\n",
       "      <th>id</th>\n",
       "      <th>target</th>\n",
       "    </tr>\n",
       "  </thead>\n",
       "  <tbody>\n",
       "    <tr>\n",
       "      <th>0</th>\n",
       "      <td>test_id0</td>\n",
       "      <td>14.409633</td>\n",
       "    </tr>\n",
       "    <tr>\n",
       "      <th>1</th>\n",
       "      <td>test_id1</td>\n",
       "      <td>14.569518</td>\n",
       "    </tr>\n",
       "    <tr>\n",
       "      <th>2</th>\n",
       "      <td>test_id2</td>\n",
       "      <td>16.384995</td>\n",
       "    </tr>\n",
       "    <tr>\n",
       "      <th>3</th>\n",
       "      <td>test_id3</td>\n",
       "      <td>13.634653</td>\n",
       "    </tr>\n",
       "    <tr>\n",
       "      <th>4</th>\n",
       "      <td>test_id4</td>\n",
       "      <td>14.348216</td>\n",
       "    </tr>\n",
       "  </tbody>\n",
       "</table>\n",
       "</div>"
      ],
      "text/plain": [
       "         id     target\n",
       "0  test_id0  14.409633\n",
       "1  test_id1  14.569518\n",
       "2  test_id2  16.384995\n",
       "3  test_id3  13.634653\n",
       "4  test_id4  14.348216"
      ]
     },
     "execution_count": 35,
     "metadata": {},
     "output_type": "execute_result"
    }
   ],
   "source": [
    "submit.head()"
   ]
  },
  {
   "cell_type": "code",
   "execution_count": 36,
   "metadata": {},
   "outputs": [],
   "source": [
    "submit.to_csv('submit.csv',index=False)"
   ]
  },
  {
   "cell_type": "code",
   "execution_count": null,
   "metadata": {},
   "outputs": [],
   "source": []
  }
 ],
 "metadata": {
  "kernelspec": {
   "display_name": "Python 3",
   "language": "python",
   "name": "python3"
  },
  "language_info": {
   "codemirror_mode": {
    "name": "ipython",
    "version": 3
   },
   "file_extension": ".py",
   "mimetype": "text/x-python",
   "name": "python",
   "nbconvert_exporter": "python",
   "pygments_lexer": "ipython3",
   "version": "3.7.3"
  }
 },
 "nbformat": 4,
 "nbformat_minor": 2
}
